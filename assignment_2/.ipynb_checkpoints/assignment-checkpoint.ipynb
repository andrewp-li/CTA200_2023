{
 "cells": [
  {
   "cell_type": "markdown",
   "id": "da03d64f",
   "metadata": {},
   "source": [
    "# Assignment 2 (May 6, 2023 11:59PM)\n",
    "Andrew Li | 1006675625"
   ]
  },
  {
   "cell_type": "code",
   "execution_count": 2,
   "id": "62b97cc2",
   "metadata": {},
   "outputs": [],
   "source": [
    "import numpy as np"
   ]
  },
  {
   "cell_type": "markdown",
   "id": "8fd04eba",
   "metadata": {},
   "source": [
    "## Part 1\n",
    "\n",
    "Define functions\n",
    "$$f(x)=x^3-x^2-1$$\n",
    "$$\\frac{df(x)}{dx}=3x^2-2x$$"
   ]
  },
  {
   "cell_type": "code",
   "execution_count": 3,
   "id": "be30ab8f",
   "metadata": {},
   "outputs": [],
   "source": [
    "def f(x):\n",
    "    '''The function f(x)\n",
    "    Parameters:\n",
    "    x - integer\n",
    "    \n",
    "    Returns:\n",
    "    An integer\n",
    "    '''\n",
    "    return x**3 - x**2 - 1\n",
    "\n",
    "def df(x):\n",
    "    '''The function df(x)/dx\n",
    "    Parameters:\n",
    "    x - integer\n",
    "    \n",
    "    Returns:\n",
    "    An integer\n",
    "    return 3*x**2 - 2*x"
   ]
  },
  {
   "cell_type": "markdown",
   "id": "cbd2d700",
   "metadata": {},
   "source": [
    "## Part 2"
   ]
  },
  {
   "cell_type": "code",
   "execution_count": 19,
   "id": "dad6dbef",
   "metadata": {},
   "outputs": [],
   "source": [
    "def newton(f,df,x0,epsilon=1e-6,max_iter=30):\n",
    "    '''Applies Newton's Method. Iterative method of findign the roots of a function.\n",
    "    \n",
    "    Paramters:\n",
    "    f - A univariate function\n",
    "    df - A univariate function. Derivative of f\n",
    "    x0 - An integer. The initial guess\n",
    "    \n",
    "    '''\n",
    "    for i in range(max_iter):\n",
    "        x1 = x0 - f(x0)/df(x0) #iterate\n",
    "        if np.abs(f(x1)) < epsilon:\n",
    "            print(f'Found root in {i} iterations')\n",
    "            return x1\n",
    "        else:\n",
    "            x0 = x1 #update\n",
    "    print('Iteration Failed')\n",
    "    return None"
   ]
  },
  {
   "cell_type": "markdown",
   "id": "3c8612ac",
   "metadata": {},
   "source": [
    "## Part 3"
   ]
  },
  {
   "cell_type": "code",
   "execution_count": 17,
   "id": "29a824f5",
   "metadata": {},
   "outputs": [
    {
     "name": "stdout",
     "output_type": "stream",
     "text": [
      "x0 = 1\n",
      "Found root in 4 iterations\n",
      "Root: 1.4655713749070918\n",
      "\n",
      "x0 = 2\n",
      "Found root in 3 iterations\n",
      "Root: 1.4655713749070918\n"
     ]
    }
   ],
   "source": [
    "print('x0 = 1')\n",
    "print(f'Root: {newton(f,df,1)}')\n",
    "print('\\nx0 = 2')\n",
    "print(f'Root: {newton(f,df,2)}')"
   ]
  },
  {
   "cell_type": "code",
   "execution_count": 18,
   "id": "4a99b82c",
   "metadata": {},
   "outputs": [
    {
     "name": "stdout",
     "output_type": "stream",
     "text": [
      "Using epsilon=1e-8\n",
      "x0 = 1\n",
      "Found root in 5 iterations\n",
      "Root: 1.4655712318767877\n",
      "\n",
      "x0 = 2\n",
      "Found root in 4 iterations\n",
      "Root: 1.4655712318767877\n"
     ]
    }
   ],
   "source": [
    "print('Using epsilon=1e-8\\nx0 = 1')\n",
    "print(f'Root: {newton(f,df,1,epsilon=1e-8,max_iter=30)}')\n",
    "print('\\nx0 = 2')\n",
    "print(f'Root: {newton(f,df,2,epsilon=1e-8,max_iter=30)}')"
   ]
  }
 ],
 "metadata": {
  "kernelspec": {
   "display_name": "Python 3 (ipykernel)",
   "language": "python",
   "name": "python3"
  },
  "language_info": {
   "codemirror_mode": {
    "name": "ipython",
    "version": 3
   },
   "file_extension": ".py",
   "mimetype": "text/x-python",
   "name": "python",
   "nbconvert_exporter": "python",
   "pygments_lexer": "ipython3",
   "version": "3.9.6"
  }
 },
 "nbformat": 4,
 "nbformat_minor": 5
}
