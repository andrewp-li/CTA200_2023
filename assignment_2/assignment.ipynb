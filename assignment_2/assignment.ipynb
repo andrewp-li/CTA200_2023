{
 "cells": [
  {
   "cell_type": "code",
   "execution_count": 1,
   "id": "62b97cc2",
   "metadata": {},
   "outputs": [],
   "source": [
    "import numpy as np"
   ]
  },
  {
   "cell_type": "code",
   "execution_count": 2,
   "id": "be30ab8f",
   "metadata": {},
   "outputs": [],
   "source": [
    "def f(x):\n",
    "    return x**3-x**2-1\n",
    "\n",
    "def df(x):\n",
    "    return 3*x**2-2*x"
   ]
  },
  {
   "cell_type": "code",
   "execution_count": null,
   "id": "dbaa3176",
   "metadata": {},
   "outputs": [],
   "source": []
  }
 ],
 "metadata": {
  "kernelspec": {
   "display_name": "Python 3 (ipykernel)",
   "language": "python",
   "name": "python3"
  },
  "language_info": {
   "codemirror_mode": {
    "name": "ipython",
    "version": 3
   },
   "file_extension": ".py",
   "mimetype": "text/x-python",
   "name": "python",
   "nbconvert_exporter": "python",
   "pygments_lexer": "ipython3",
   "version": "3.10.2"
  }
 },
 "nbformat": 4,
 "nbformat_minor": 5
}
